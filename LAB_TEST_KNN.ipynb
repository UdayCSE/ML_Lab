{
  "nbformat": 4,
  "nbformat_minor": 0,
  "metadata": {
    "colab": {
      "provenance": [],
      "toc_visible": true,
      "authorship_tag": "ABX9TyNQHvAHkNTowryoJocsh3o3",
      "include_colab_link": true
    },
    "kernelspec": {
      "name": "python3",
      "display_name": "Python 3"
    },
    "language_info": {
      "name": "python"
    }
  },
  "cells": [
    {
      "cell_type": "markdown",
      "metadata": {
        "id": "view-in-github",
        "colab_type": "text"
      },
      "source": [
        "<a href=\"https://colab.research.google.com/github/UdayCSE/ML_Lab/blob/main/LAB_TEST_KNN.ipynb\" target=\"_parent\"><img src=\"https://colab.research.google.com/assets/colab-badge.svg\" alt=\"Open In Colab\"/></a>"
      ]
    },
    {
      "cell_type": "code",
      "execution_count": 2,
      "metadata": {
        "colab": {
          "base_uri": "https://localhost:8080/"
        },
        "id": "BgrG5nQXgQ0s",
        "outputId": "62d78eee-c58f-482d-f298-3827245877d1"
      },
      "outputs": [
        {
          "output_type": "stream",
          "name": "stdout",
          "text": [
            "Accuracy: 0.85\n"
          ]
        }
      ],
      "source": [
        "# Importing necessary libraries\n",
        "from sklearn.model_selection import train_test_split\n",
        "from sklearn.tree import DecisionTreeClassifier\n",
        "from sklearn.metrics import accuracy_score\n",
        "\n",
        "# Sample dataset\n",
        "# You can replace this with your actual dataset\n",
        "dataset = [\n",
        "    {'pepper': True, 'ginger': True, 'chilly': True, 'like': True},\n",
        "    {'pepper': False, 'ginger': True, 'chilly': False, 'like': False},\n",
        "    {'pepper': True, 'ginger': False, 'chilly': False, 'like': True},\n",
        "    # Add more examples as needed\n",
        "]\n",
        "\n",
        "# Separating features and target variable\n",
        "X = [[sample['pepper'], sample['ginger'], sample['chilly']] for sample in dataset]\n",
        "y = [sample['like'] for sample in dataset]\n",
        "\n",
        "# Splitting dataset into training and testing sets\n",
        "X_train, X_test, y_train, y_test = train_test_split(X, y, test_size=0.2, random_state=42)\n",
        "\n",
        "# Initializing Decision Tree Classifier\n",
        "clf = DecisionTreeClassifier()\n",
        "\n",
        "# Training the classifier\n",
        "clf.fit(X_train, y_train)\n",
        "\n",
        "# Predicting on the test set\n",
        "y_pred = clf.predict(X_test)\n",
        "\n",
        "# Calculating accuracy\n",
        "accuracy = accuracy_score(y_test, y_pred)\n",
        "print(\"Accuracy:\", accuracy)\n"
      ]
    }
  ]
}